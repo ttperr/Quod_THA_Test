{
 "cells": [
  {
   "cell_type": "markdown",
   "metadata": {},
   "source": [
    "# Sales Forecast and analysis\n",
    "\n",
    "## Quod Financial Technical Test\n",
    "\n",
    "> Done by **Tristan PERROT**\n"
   ]
  }
 ],
 "metadata": {
  "language_info": {
   "name": "python"
  }
 },
 "nbformat": 4,
 "nbformat_minor": 2
}
