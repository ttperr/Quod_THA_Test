{
 "cells": [
  {
   "cell_type": "markdown",
   "metadata": {},
   "source": [
    "# Sales Forecast and analysis\n",
    "\n",
    "## Quod Financial Technical Test\n",
    "\n",
    "> Done by **Tristan PERROT**\n"
   ]
  },
  {
   "cell_type": "markdown",
   "metadata": {},
   "source": [
    "## Import libraries\n"
   ]
  },
  {
   "cell_type": "code",
   "execution_count": 39,
   "metadata": {},
   "outputs": [],
   "source": [
    "import plotly.graph_objects as go\n",
    "import plotly.express as px\n",
    "import matplotlib.pyplot as plt\n",
    "import seaborn as sns\n",
    "import pandas as pd\n",
    "import numpy as np\n",
    "import sys\n",
    "import os\n",
    "import plotly.io as pio\n",
    "pio.renderers.default = \"vscode\""
   ]
  },
  {
   "cell_type": "markdown",
   "metadata": {},
   "source": [
    "## Import Data"
   ]
  },
  {
   "cell_type": "code",
   "execution_count": 28,
   "metadata": {},
   "outputs": [],
   "source": [
    "DATA_DIR = '..' + os.sep + 'data'\n",
    "\n",
    "transactions_1 = pd.read_csv(DATA_DIR + os.sep + 'transactions_1.csv', index_col=0, parse_dates=['date'])\n",
    "transactions_2 = pd.read_csv(DATA_DIR + os.sep + 'transactions_2.csv', index_col=0, parse_dates=['date'])"
   ]
  },
  {
   "cell_type": "code",
   "execution_count": 29,
   "metadata": {},
   "outputs": [
    {
     "data": {
      "text/html": [
       "<div>\n",
       "<style scoped>\n",
       "    .dataframe tbody tr th:only-of-type {\n",
       "        vertical-align: middle;\n",
       "    }\n",
       "\n",
       "    .dataframe tbody tr th {\n",
       "        vertical-align: top;\n",
       "    }\n",
       "\n",
       "    .dataframe thead th {\n",
       "        text-align: right;\n",
       "    }\n",
       "</style>\n",
       "<table border=\"1\" class=\"dataframe\">\n",
       "  <thead>\n",
       "    <tr style=\"text-align: right;\">\n",
       "      <th></th>\n",
       "      <th>customer_id</th>\n",
       "      <th>product_id</th>\n",
       "      <th>date</th>\n",
       "    </tr>\n",
       "  </thead>\n",
       "  <tbody>\n",
       "    <tr>\n",
       "      <th>0</th>\n",
       "      <td>8649525</td>\n",
       "      <td>Opel</td>\n",
       "      <td>2017-01-31 09:31:08.873000+00:00</td>\n",
       "    </tr>\n",
       "    <tr>\n",
       "      <th>1</th>\n",
       "      <td>8649525</td>\n",
       "      <td>Volkswagen</td>\n",
       "      <td>2017-02-03 16:59:16.610000+00:00</td>\n",
       "    </tr>\n",
       "    <tr>\n",
       "      <th>2</th>\n",
       "      <td>8649525</td>\n",
       "      <td>Volkswagen</td>\n",
       "      <td>2017-02-05 19:47:55.353000+00:00</td>\n",
       "    </tr>\n",
       "    <tr>\n",
       "      <th>3</th>\n",
       "      <td>8649525</td>\n",
       "      <td>Volkswagen</td>\n",
       "      <td>2017-02-05 19:48:14.633000+00:00</td>\n",
       "    </tr>\n",
       "    <tr>\n",
       "      <th>4</th>\n",
       "      <td>8649525</td>\n",
       "      <td>Volkswagen</td>\n",
       "      <td>2017-02-06 09:59:49.053000+00:00</td>\n",
       "    </tr>\n",
       "    <tr>\n",
       "      <th>...</th>\n",
       "      <td>...</td>\n",
       "      <td>...</td>\n",
       "      <td>...</td>\n",
       "    </tr>\n",
       "    <tr>\n",
       "      <th>499995</th>\n",
       "      <td>8822663</td>\n",
       "      <td>Fiat</td>\n",
       "      <td>2019-12-17 10:15:10.907000+00:00</td>\n",
       "    </tr>\n",
       "    <tr>\n",
       "      <th>499996</th>\n",
       "      <td>8822663</td>\n",
       "      <td>Renault</td>\n",
       "      <td>2017-09-26 08:00:46.090000+00:00</td>\n",
       "    </tr>\n",
       "    <tr>\n",
       "      <th>499997</th>\n",
       "      <td>8822663</td>\n",
       "      <td>Renault</td>\n",
       "      <td>2017-09-26 08:17:36.350000+00:00</td>\n",
       "    </tr>\n",
       "    <tr>\n",
       "      <th>499998</th>\n",
       "      <td>8822663</td>\n",
       "      <td>Renault</td>\n",
       "      <td>2017-09-26 09:05:09.700000+00:00</td>\n",
       "    </tr>\n",
       "    <tr>\n",
       "      <th>499999</th>\n",
       "      <td>8822663</td>\n",
       "      <td>Renault</td>\n",
       "      <td>2017-09-26 09:08:49.747000+00:00</td>\n",
       "    </tr>\n",
       "  </tbody>\n",
       "</table>\n",
       "<p>500000 rows × 3 columns</p>\n",
       "</div>"
      ],
      "text/plain": [
       "        customer_id  product_id                             date\n",
       "0           8649525        Opel 2017-01-31 09:31:08.873000+00:00\n",
       "1           8649525  Volkswagen 2017-02-03 16:59:16.610000+00:00\n",
       "2           8649525  Volkswagen 2017-02-05 19:47:55.353000+00:00\n",
       "3           8649525  Volkswagen 2017-02-05 19:48:14.633000+00:00\n",
       "4           8649525  Volkswagen 2017-02-06 09:59:49.053000+00:00\n",
       "...             ...         ...                              ...\n",
       "499995      8822663        Fiat 2019-12-17 10:15:10.907000+00:00\n",
       "499996      8822663     Renault 2017-09-26 08:00:46.090000+00:00\n",
       "499997      8822663     Renault 2017-09-26 08:17:36.350000+00:00\n",
       "499998      8822663     Renault 2017-09-26 09:05:09.700000+00:00\n",
       "499999      8822663     Renault 2017-09-26 09:08:49.747000+00:00\n",
       "\n",
       "[500000 rows x 3 columns]"
      ]
     },
     "execution_count": 29,
     "metadata": {},
     "output_type": "execute_result"
    }
   ],
   "source": [
    "transactions_1"
   ]
  },
  {
   "cell_type": "code",
   "execution_count": 30,
   "metadata": {},
   "outputs": [
    {
     "data": {
      "text/html": [
       "<div>\n",
       "<style scoped>\n",
       "    .dataframe tbody tr th:only-of-type {\n",
       "        vertical-align: middle;\n",
       "    }\n",
       "\n",
       "    .dataframe tbody tr th {\n",
       "        vertical-align: top;\n",
       "    }\n",
       "\n",
       "    .dataframe thead th {\n",
       "        text-align: right;\n",
       "    }\n",
       "</style>\n",
       "<table border=\"1\" class=\"dataframe\">\n",
       "  <thead>\n",
       "    <tr style=\"text-align: right;\">\n",
       "      <th></th>\n",
       "      <th>customer_id</th>\n",
       "      <th>product_id</th>\n",
       "      <th>date</th>\n",
       "    </tr>\n",
       "  </thead>\n",
       "  <tbody>\n",
       "    <tr>\n",
       "      <th>500000</th>\n",
       "      <td>8822663</td>\n",
       "      <td>Abarth</td>\n",
       "      <td>2018-06-28 09:19:11.130000+00:00</td>\n",
       "    </tr>\n",
       "    <tr>\n",
       "      <th>500001</th>\n",
       "      <td>8822663</td>\n",
       "      <td>Peugeot</td>\n",
       "      <td>2019-07-17 08:06:29.500000+00:00</td>\n",
       "    </tr>\n",
       "    <tr>\n",
       "      <th>500002</th>\n",
       "      <td>8822663</td>\n",
       "      <td>Nissan</td>\n",
       "      <td>2017-06-22 07:29:22.440000+00:00</td>\n",
       "    </tr>\n",
       "    <tr>\n",
       "      <th>500003</th>\n",
       "      <td>8822663</td>\n",
       "      <td>Nissan</td>\n",
       "      <td>2017-06-22 07:50:10.863000+00:00</td>\n",
       "    </tr>\n",
       "    <tr>\n",
       "      <th>500004</th>\n",
       "      <td>8822663</td>\n",
       "      <td>Nissan</td>\n",
       "      <td>2017-06-22 08:40:35.923000+00:00</td>\n",
       "    </tr>\n",
       "    <tr>\n",
       "      <th>...</th>\n",
       "      <td>...</td>\n",
       "      <td>...</td>\n",
       "      <td>...</td>\n",
       "    </tr>\n",
       "    <tr>\n",
       "      <th>975950</th>\n",
       "      <td>1111821</td>\n",
       "      <td>Renault</td>\n",
       "      <td>2019-05-17 10:06:43.037000+00:00</td>\n",
       "    </tr>\n",
       "    <tr>\n",
       "      <th>975951</th>\n",
       "      <td>4232782</td>\n",
       "      <td>Renault</td>\n",
       "      <td>2017-10-27 17:49:54.483000+00:00</td>\n",
       "    </tr>\n",
       "    <tr>\n",
       "      <th>975952</th>\n",
       "      <td>4746355</td>\n",
       "      <td>Seat</td>\n",
       "      <td>2019-01-09 16:31:08.133000+00:00</td>\n",
       "    </tr>\n",
       "    <tr>\n",
       "      <th>975953</th>\n",
       "      <td>4743766</td>\n",
       "      <td>Opel</td>\n",
       "      <td>2017-03-29 16:25:05.907000+00:00</td>\n",
       "    </tr>\n",
       "    <tr>\n",
       "      <th>975954</th>\n",
       "      <td>1249075</td>\n",
       "      <td>Renault</td>\n",
       "      <td>2020-03-16 22:39:59.247000+00:00</td>\n",
       "    </tr>\n",
       "  </tbody>\n",
       "</table>\n",
       "<p>475955 rows × 3 columns</p>\n",
       "</div>"
      ],
      "text/plain": [
       "        customer_id product_id                             date\n",
       "500000      8822663     Abarth 2018-06-28 09:19:11.130000+00:00\n",
       "500001      8822663    Peugeot 2019-07-17 08:06:29.500000+00:00\n",
       "500002      8822663     Nissan 2017-06-22 07:29:22.440000+00:00\n",
       "500003      8822663     Nissan 2017-06-22 07:50:10.863000+00:00\n",
       "500004      8822663     Nissan 2017-06-22 08:40:35.923000+00:00\n",
       "...             ...        ...                              ...\n",
       "975950      1111821    Renault 2019-05-17 10:06:43.037000+00:00\n",
       "975951      4232782    Renault 2017-10-27 17:49:54.483000+00:00\n",
       "975952      4746355       Seat 2019-01-09 16:31:08.133000+00:00\n",
       "975953      4743766       Opel 2017-03-29 16:25:05.907000+00:00\n",
       "975954      1249075    Renault 2020-03-16 22:39:59.247000+00:00\n",
       "\n",
       "[475955 rows x 3 columns]"
      ]
     },
     "execution_count": 30,
     "metadata": {},
     "output_type": "execute_result"
    }
   ],
   "source": [
    "transactions_2"
   ]
  },
  {
   "cell_type": "code",
   "execution_count": 34,
   "metadata": {},
   "outputs": [
    {
     "name": "stdout",
     "output_type": "stream",
     "text": [
      "<class 'pandas.core.frame.DataFrame'>\n",
      "Index: 500000 entries, 0 to 499999\n",
      "Data columns (total 3 columns):\n",
      " #   Column       Non-Null Count   Dtype              \n",
      "---  ------       --------------   -----              \n",
      " 0   customer_id  500000 non-null  int64              \n",
      " 1   product_id   500000 non-null  object             \n",
      " 2   date         500000 non-null  datetime64[ns, UTC]\n",
      "dtypes: datetime64[ns, UTC](1), int64(1), object(1)\n",
      "memory usage: 15.3+ MB\n"
     ]
    }
   ],
   "source": [
    "transactions_1.info()"
   ]
  },
  {
   "cell_type": "code",
   "execution_count": 45,
   "metadata": {},
   "outputs": [],
   "source": [
    "all_transactions = pd.concat([transactions_1, transactions_2])"
   ]
  },
  {
   "cell_type": "markdown",
   "metadata": {},
   "source": [
    "## Data Analysis"
   ]
  },
  {
   "cell_type": "code",
   "execution_count": 51,
   "metadata": {},
   "outputs": [
    {
     "data": {
      "image/png": "[encoded data removed]",
      "text/plain": [
       "<Figure size 1200x600 with 1 Axes>"
      ]
     },
     "metadata": {},
     "output_type": "display_data"
    }
   ],
   "source": [
    "# Combine transactions and count the number per customer\n",
    "transactions_per_customer = pd.concat([transactions_1, transactions_2]).groupby('customer_id').size()\n",
    "\n",
    "# Sort in descending order\n",
    "transactions_per_customer = transactions_per_customer.sort_values(ascending=False)\n",
    "\n",
    "# Create the plot\n",
    "plt.figure(figsize=(12, 6))\n",
    "plt.bar(transactions_per_customer.index.astype(str), transactions_per_customer.values)\n",
    "\n",
    "# Labels and title\n",
    "plt.xlabel(\"Customer ID\")  # Remove x-axis label text\n",
    "plt.ylabel(\"Number of Transactions\")\n",
    "plt.title(\"Total Number of Transactions per Customer (Descending Order)\")\n",
    "plt.grid(axis='y')\n",
    "\n",
    "# Remove x-axis ticks and labels for readability\n",
    "plt.xticks([], []) \n",
    "\n",
    "# Show the plot\n",
    "plt.show()"
   ]
  },
  {
   "cell_type": "code",
   "execution_count": 52,
   "metadata": {},
   "outputs": [
    {
     "data": {
      "text/html": [
       "\n",
       "        <iframe\n",
       "            width=\"100%\"\n",
       "            height=\"650\"\n",
       "            src=\"http://127.0.0.1:8050/\"\n",
       "            frameborder=\"0\"\n",
       "            allowfullscreen\n",
       "            \n",
       "        ></iframe>\n",
       "        "
      ],
      "text/plain": [
       "<IPython.lib.display.IFrame at 0x33ae16900>"
      ]
     },
     "metadata": {},
     "output_type": "display_data"
    }
   ],
   "source": [
    "import dash\n",
    "from dash import dcc, html\n",
    "from dash.dependencies import Input, Output\n",
    "import pandas as pd\n",
    "import plotly.express as px\n",
    "\n",
    "# Initialize Dash app\n",
    "app = dash.Dash(__name__)\n",
    "\n",
    "# Layout\n",
    "app.layout = html.Div([\n",
    "    dcc.Dropdown(\n",
    "        id='product-dropdown',\n",
    "        options=[{'label': p, 'value': p} for p in all_transactions['product_id'].unique()],\n",
    "        value=all_transactions['product_id'].unique()[0],\n",
    "        clearable=False\n",
    "    ),\n",
    "    dcc.Graph(id='product-transaction-plot')\n",
    "])\n",
    "\n",
    "# Callback to update the plot\n",
    "@app.callback(\n",
    "    Output('product-transaction-plot', 'figure'),\n",
    "    Input('product-dropdown', 'value')\n",
    ")\n",
    "def update_graph(product_id):\n",
    "    # Filter transactions for the selected product\n",
    "    transactions_2018 = all_transactions[\n",
    "        (all_transactions['date'].dt.year == 2018) & (all_transactions['product_id'] == product_id)\n",
    "    ]\n",
    "\n",
    "    # Group by month\n",
    "    transactions_2018_per_month = transactions_2018.groupby(transactions_2018['date'].dt.month).size().reset_index()\n",
    "    transactions_2018_per_month.columns = ['Month', 'Number of Transactions']\n",
    "\n",
    "    # Map month numbers to names\n",
    "    month_names = ['Jan', 'Feb', 'Mar', 'Apr', 'May', 'Jun', 'Jul', 'Aug', 'Sep', 'Oct', 'Nov', 'Dec']\n",
    "    transactions_2018_per_month['Month'] = transactions_2018_per_month['Month'].apply(lambda x: month_names[x-1])\n",
    "\n",
    "    # Create the figure\n",
    "    fig = px.bar(\n",
    "        transactions_2018_per_month,\n",
    "        x=\"Month\",\n",
    "        y=\"Number of Transactions\",\n",
    "        title=f\"Transaction Frequency per Month for {product_id} in 2018\",\n",
    "        labels={\"Month\": \"Month\", \"Number of Transactions\": \"Transaction Count\"},\n",
    "        text=\"Number of Transactions\"\n",
    "    )\n",
    "    \n",
    "    return fig\n",
    "\n",
    "# Run the app\n",
    "if __name__ == '__main__':\n",
    "    app.run_server(debug=True)"
   ]
  },
  {
   "cell_type": "markdown",
   "metadata": {},
   "source": [
    "## Prediction model"
   ]
  }
 ],
 "metadata": {
  "kernelspec": {
   "display_name": "Python 3",
   "language": "python",
   "name": "python3"
  },
  "language_info": {
   "codemirror_mode": {
    "name": "ipython",
    "version": 3
   },
   "file_extension": ".py",
   "mimetype": "text/x-python",
   "name": "python",
   "nbconvert_exporter": "python",
   "pygments_lexer": "ipython3",
   "version": "3.12.4"
  }
 },
 "nbformat": 4,
 "nbformat_minor": 2
}
